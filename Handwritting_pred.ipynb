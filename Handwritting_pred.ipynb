{
 "cells": [
  {
   "cell_type": "markdown",
   "id": "68169f89",
   "metadata": {},
   "source": [
    "### LGM VIRTUAL INTERNSHIP PROGRAM \n",
    "### DATA SCIENCE \n",
    "### ADVANCE LEVEL TASK 1 :Develop A Neural Network That Can Read Handwriting"
   ]
  },
  {
   "cell_type": "code",
   "execution_count": null,
   "id": "b6e173d8",
   "metadata": {},
   "outputs": [],
   "source": []
  },
  {
   "cell_type": "code",
   "execution_count": 2,
   "id": "3878ceef",
   "metadata": {},
   "outputs": [],
   "source": [
    "#importing libraries\n",
    "import pandas as pd\n",
    "import numpy as np\n",
    "from tensorflow.keras import Sequential\n",
    "from tensorflow.keras.layers import Conv2D,MaxPool2D,Dense,Dropout,Flatten,BatchNormalization\n",
    "import matplotlib.pyplot as plt\n",
    "from sklearn.preprocessing import StandardScaler\n",
    "import seaborn as sns\n",
    "import tensorflow"
   ]
  },
  {
   "cell_type": "code",
   "execution_count": 3,
   "id": "c7621a59",
   "metadata": {},
   "outputs": [],
   "source": [
    "#extracting the mnist dataset through keras\n",
    "from tensorflow.keras.datasets import mnist\n",
    "from tensorflow.keras.utils import to_categorical,plot_model"
   ]
  },
  {
   "cell_type": "code",
   "execution_count": 4,
   "id": "ca2817e2",
   "metadata": {},
   "outputs": [],
   "source": [
    "(x_train, y_train), (x_test, y_test)=mnist.load_data()"
   ]
  },
  {
   "cell_type": "code",
   "execution_count": 5,
   "id": "3ca59dc1",
   "metadata": {},
   "outputs": [
    {
     "data": {
      "text/plain": [
       "((60000, 28, 28), (60000,))"
      ]
     },
     "execution_count": 5,
     "metadata": {},
     "output_type": "execute_result"
    }
   ],
   "source": [
    "x_train.shape,y_train.shape"
   ]
  },
  {
   "cell_type": "code",
   "execution_count": 6,
   "id": "c2e5cef8",
   "metadata": {},
   "outputs": [],
   "source": [
    "#One hot encoding the target variable for train dataset\n",
    "y_train=to_categorical(y_train,num_classes=10)"
   ]
  },
  {
   "cell_type": "code",
   "execution_count": 7,
   "id": "6e92f0d3",
   "metadata": {},
   "outputs": [],
   "source": [
    "#One hot encoding the target variable for test dataset\n",
    "y_test=to_categorical(y_test,num_classes=10)"
   ]
  },
  {
   "cell_type": "code",
   "execution_count": 8,
   "id": "034d757b",
   "metadata": {},
   "outputs": [],
   "source": [
    "#Normalizing the dataset\n",
    "x_train=x_train/255.0\n",
    "x_test=x_test/255.0"
   ]
  },
  {
   "cell_type": "code",
   "execution_count": 9,
   "id": "9a9ebf94",
   "metadata": {},
   "outputs": [
    {
     "data": {
      "text/plain": [
       "(60000, 28, 28)"
      ]
     },
     "execution_count": 9,
     "metadata": {},
     "output_type": "execute_result"
    }
   ],
   "source": [
    "x_train.shape"
   ]
  },
  {
   "cell_type": "code",
   "execution_count": 12,
   "id": "29d0db0a",
   "metadata": {},
   "outputs": [],
   "source": [
    "x_train=tensorflow.expand_dims(x_train,axis=3)\n",
    "x_test=tensorflow.expand_dims(x_test,axis=3)"
   ]
  },
  {
   "cell_type": "code",
   "execution_count": 13,
   "id": "b55d7e8f",
   "metadata": {},
   "outputs": [
    {
     "data": {
      "text/plain": [
       "(TensorShape([28, 28, 1]), TensorShape([10000, 28, 28, 1]))"
      ]
     },
     "execution_count": 13,
     "metadata": {},
     "output_type": "execute_result"
    }
   ],
   "source": [
    "x_train[1].shape,x_test.shape"
   ]
  },
  {
   "cell_type": "markdown",
   "id": "ffe59c95",
   "metadata": {},
   "source": [
    "### Dataset"
   ]
  },
  {
   "cell_type": "code",
   "execution_count": 10,
   "id": "bb35976d",
   "metadata": {},
   "outputs": [
    {
     "data": {
      "image/png": "[encoded data removed]",
      "text/plain": [
       "<Figure size 720x576 with 8 Axes>"
      ]
     },
     "metadata": {
      "needs_background": "light"
     },
     "output_type": "display_data"
    }
   ],
   "source": [
    "\n",
    "plt.figure(figsize=(10,8))\n",
    "for i in range(1,9):\n",
    "    random_num=np.random.randint(0,60000)\n",
    "    plt.subplot(2,4,i)\n",
    "    plt.imshow(x_train[i])\n",
    "    plt.xlabel(\"img for number: \" +str(np.argmax(y_train[i])))\n",
    "plt.show()\n"
   ]
  },
  {
   "cell_type": "markdown",
   "id": "28d88afa",
   "metadata": {},
   "source": [
    "## Building a CNN model that can read Handwriting"
   ]
  },
  {
   "cell_type": "markdown",
   "id": "6a4af2eb",
   "metadata": {},
   "source": [
    "### A Convolutional Neural Network (CNN) is a type of Deep Learning neural network architecture commonly used in Computer Vision. Computer vision is a field of Artificial Intelligence that enables a computer to understand and interpret the image or visual data. \n",
    "\n",
    "#### Convolutional Neural Network consists of multiple layers like the input layer, Convolutional layer, Pooling layer, and fully connected layers. \n",
    "\n",
    "#### The Convolutional layer applies filters to the input image to extract features.\n",
    "\n",
    "#### Pooling layer downsamples the image to reduce computation.\n",
    "\n",
    "#### Fully connected layer makes the final prediction.\n",
    "\n",
    "### The network learns the optimal filters through backpropagation and gradient descent."
   ]
  },
  {
   "cell_type": "code",
   "execution_count": 11,
   "id": "ecab352f",
   "metadata": {},
   "outputs": [],
   "source": [
    "model=Sequential([\n",
    "    Conv2D(64,kernel_size=(3,3),padding='valid',activation='relu',input_shape=(28,28,1)),\n",
    "    MaxPool2D((2,2),strides=2,padding='valid'),\n",
    "    Dropout(0.4),\n",
    "    BatchNormalization(),\n",
    "    Conv2D(128,kernel_size=(3,3),padding='valid',activation='relu',input_shape=(28,28,1)),\n",
    "    MaxPool2D((2,2),strides=2,padding='valid'),\n",
    "    Dropout(0.4),\n",
    "    BatchNormalization(),\n",
    "    Flatten(),\n",
    "    Dense(128,activation='relu'),\n",
    "    Dropout(0.3),\n",
    "    Dense(64,activation='relu'),\n",
    "    Dense(10,activation='softmax')\n",
    "])"
   ]
  },
  {
   "cell_type": "code",
   "execution_count": 16,
   "id": "f7da9361",
   "metadata": {},
   "outputs": [
    {
     "name": "stdout",
     "output_type": "stream",
     "text": [
      "Model: \"sequential\"\n",
      "_________________________________________________________________\n",
      " Layer (type)                Output Shape              Param #   \n",
      "=================================================================\n",
      " conv2d (Conv2D)             (None, 26, 26, 64)        640       \n",
      "                                                                 \n",
      " max_pooling2d (MaxPooling2D  (None, 13, 13, 64)       0         \n",
      " )                                                               \n",
      "                                                                 \n",
      " dropout (Dropout)           (None, 13, 13, 64)        0         \n",
      "                                                                 \n",
      " batch_normalization (BatchN  (None, 13, 13, 64)       256       \n",
      " ormalization)                                                   \n",
      "                                                                 \n",
      " conv2d_1 (Conv2D)           (None, 11, 11, 128)       73856     \n",
      "                                                                 \n",
      " max_pooling2d_1 (MaxPooling  (None, 5, 5, 128)        0         \n",
      " 2D)                                                             \n",
      "                                                                 \n",
      " dropout_1 (Dropout)         (None, 5, 5, 128)         0         \n",
      "                                                                 \n",
      " batch_normalization_1 (Batc  (None, 5, 5, 128)        512       \n",
      " hNormalization)                                                 \n",
      "                                                                 \n",
      " flatten (Flatten)           (None, 3200)              0         \n",
      "                                                                 \n",
      " dense (Dense)               (None, 128)               409728    \n",
      "                                                                 \n",
      " dropout_2 (Dropout)         (None, 128)               0         \n",
      "                                                                 \n",
      " dense_1 (Dense)             (None, 64)                8256      \n",
      "                                                                 \n",
      " dense_2 (Dense)             (None, 10)                650       \n",
      "                                                                 \n",
      "=================================================================\n",
      "Total params: 493,898\n",
      "Trainable params: 493,514\n",
      "Non-trainable params: 384\n",
      "_________________________________________________________________\n"
     ]
    }
   ],
   "source": [
    "model.summary()"
   ]
  },
  {
   "cell_type": "code",
   "execution_count": 17,
   "id": "50c31a07",
   "metadata": {},
   "outputs": [],
   "source": [
    "#Compiling the model\n",
    "model.compile(optimizer='adam',loss='categorical_crossentropy',metrics=['accuracy'])"
   ]
  },
  {
   "cell_type": "code",
   "execution_count": 18,
   "id": "19dd8931",
   "metadata": {},
   "outputs": [
    {
     "name": "stdout",
     "output_type": "stream",
     "text": [
      "Epoch 1/5\n",
      "300/300 [==============================] - 59s 195ms/step - loss: 0.2722 - accuracy: 0.9146 - val_loss: 10.8410 - val_accuracy: 0.1135\n",
      "Epoch 2/5\n",
      "300/300 [==============================] - 60s 201ms/step - loss: 0.0872 - accuracy: 0.9735 - val_loss: 0.1962 - val_accuracy: 0.9386\n",
      "Epoch 3/5\n",
      "300/300 [==============================] - 63s 210ms/step - loss: 0.0685 - accuracy: 0.9789 - val_loss: 0.0340 - val_accuracy: 0.9897\n",
      "Epoch 4/5\n",
      "300/300 [==============================] - 60s 202ms/step - loss: 0.0556 - accuracy: 0.9830 - val_loss: 0.0382 - val_accuracy: 0.9878\n",
      "Epoch 5/5\n",
      "300/300 [==============================] - 61s 205ms/step - loss: 0.0499 - accuracy: 0.9844 - val_loss: 0.0298 - val_accuracy: 0.9912\n"
     ]
    },
    {
     "data": {
      "text/plain": [
       "<keras.callbacks.History at 0x23650bd0a30>"
      ]
     },
     "execution_count": 18,
     "metadata": {},
     "output_type": "execute_result"
    }
   ],
   "source": [
    "#Training the model\n",
    "model.fit(x_train, y_train, epochs=5,validation_data=(x_test,y_test),validation_batch_size=50,batch_size=200)"
   ]
  },
  {
   "cell_type": "markdown",
   "id": "2f33f77f",
   "metadata": {},
   "source": [
    "## Predicting using our CNN Model"
   ]
  },
  {
   "cell_type": "code",
   "execution_count": 95,
   "id": "e5497289",
   "metadata": {},
   "outputs": [
    {
     "name": "stdout",
     "output_type": "stream",
     "text": [
      "313/313 [==============================] - 3s 10ms/step\n"
     ]
    },
    {
     "data": {
      "text/plain": [
       "(7, array([0., 0., 0., 0., 0., 0., 0., 1., 0., 0.], dtype=float32))"
      ]
     },
     "execution_count": 95,
     "metadata": {},
     "output_type": "execute_result"
    }
   ],
   "source": [
    "np.argmax(model.predict(x_test)[0]),y_test[0]"
   ]
  },
  {
   "cell_type": "code",
   "execution_count": 21,
   "id": "aae8ddae",
   "metadata": {},
   "outputs": [
    {
     "name": "stdout",
     "output_type": "stream",
     "text": [
      "313/313 [==============================] - 3s 10ms/step\n"
     ]
    }
   ],
   "source": [
    "y_pred=model.predict(x_test)"
   ]
  },
  {
   "cell_type": "code",
   "execution_count": 64,
   "id": "bf0f1f7e",
   "metadata": {},
   "outputs": [
    {
     "data": {
      "image/png": "[encoded data removed]",
      "text/plain": [
       "<Figure size 720x576 with 8 Axes>"
      ]
     },
     "metadata": {
      "needs_background": "light"
     },
     "output_type": "display_data"
    }
   ],
   "source": [
    "\n",
    "plt.figure(figsize=(10,8))\n",
    "for i in range(1,9):\n",
    "    random_num=np.random.randint(0,10000)\n",
    "    plt.subplot(2,4,i)\n",
    "    plt.imshow(x_test[i])\n",
    "    plt.xlabel(\"prediction for the img is : \" +str(y_pred[i]) )\n",
    "plt.show()\n"
   ]
  },
  {
   "cell_type": "markdown",
   "id": "58bbaecf",
   "metadata": {},
   "source": [
    "## Model Evaluation"
   ]
  },
  {
   "cell_type": "code",
   "execution_count": 20,
   "id": "174da1b2",
   "metadata": {},
   "outputs": [],
   "source": [
    "from sklearn.metrics import confusion_matrix,ConfusionMatrixDisplay"
   ]
  },
  {
   "cell_type": "code",
   "execution_count": 22,
   "id": "e3498163",
   "metadata": {},
   "outputs": [],
   "source": [
    "y_true,y_pred=[np.argmax(i) for i in y_test],[np.argmax(i) for i in y_pred]"
   ]
  },
  {
   "cell_type": "code",
   "execution_count": 23,
   "id": "74f556ab",
   "metadata": {},
   "outputs": [
    {
     "data": {
      "image/png": "[encoded data removed]",
      "text/plain": [
       "<Figure size 720x576 with 2 Axes>"
      ]
     },
     "metadata": {
      "needs_background": "light"
     },
     "output_type": "display_data"
    }
   ],
   "source": [
    "#Confusion Matrix\n",
    "cm = confusion_matrix(y_true,y_pred)\n",
    "labels = list(np.unique(y_true))\n",
    "plt.figure(figsize=(10, 8))\n",
    "sns.heatmap(cm,cmap='Blues', annot=True, fmt=\".2f\", xticklabels=labels, yticklabels=labels)\n",
    "plt.xlabel('Predicted Values')\n",
    "plt.ylabel('Actual Values')\n",
    "plt.title(\"Confusion matrix\")\n",
    "plt.show()\n"
   ]
  },
  {
   "cell_type": "code",
   "execution_count": 19,
   "id": "9986dc81",
   "metadata": {},
   "outputs": [
    {
     "data": {
      "text/plain": [
       "<matplotlib.legend.Legend at 0x236000030d0>"
      ]
     },
     "execution_count": 19,
     "metadata": {},
     "output_type": "execute_result"
    },
    {
     "data": {
      "image/png": "[encoded data removed]",
      "text/plain": [
       "<Figure size 720x288 with 2 Axes>"
      ]
     },
     "metadata": {
      "needs_background": "light"
     },
     "output_type": "display_data"
    }
   ],
   "source": [
    "plt.figure(figsize=(10,4))\n",
    "plt.subplot(1,2,1)\n",
    "plt.plot(model.history.history['accuracy'])\n",
    "plt.plot(model.history.history['val_accuracy'])\n",
    "plt.legend(['train_accuracy','test_accuracy'])\n",
    "\n",
    "plt.subplot(1,2,2)\n",
    "plt.plot(model.history.history['loss'])\n",
    "plt.plot(model.history.history['val_loss'])\n",
    "plt.legend(['train_loss','test_loss'])"
   ]
  },
  {
   "cell_type": "code",
   "execution_count": 24,
   "id": "c9c296a1",
   "metadata": {},
   "outputs": [],
   "source": [
    "from sklearn.metrics import classification_report"
   ]
  },
  {
   "cell_type": "code",
   "execution_count": 25,
   "id": "cf0adfd9",
   "metadata": {},
   "outputs": [
    {
     "name": "stdout",
     "output_type": "stream",
     "text": [
      "              precision    recall  f1-score   support\n",
      "\n",
      "           0       0.99      1.00      0.99       980\n",
      "           1       0.99      1.00      1.00      1135\n",
      "           2       0.99      1.00      0.99      1032\n",
      "           3       1.00      0.99      0.99      1010\n",
      "           4       1.00      0.99      0.99       982\n",
      "           5       0.99      0.99      0.99       892\n",
      "           6       0.99      0.98      0.99       958\n",
      "           7       0.99      0.99      0.99      1028\n",
      "           8       0.99      0.99      0.99       974\n",
      "           9       0.99      0.99      0.99      1009\n",
      "\n",
      "    accuracy                           0.99     10000\n",
      "   macro avg       0.99      0.99      0.99     10000\n",
      "weighted avg       0.99      0.99      0.99     10000\n",
      "\n"
     ]
    }
   ],
   "source": [
    "print(classification_report(y_true,y_pred))"
   ]
  },
  {
   "cell_type": "code",
   "execution_count": null,
   "id": "7be06c21",
   "metadata": {},
   "outputs": [],
   "source": []
  }
 ],
 "metadata": {
  "kernelspec": {
   "display_name": "Python 3",
   "language": "python",
   "name": "python3"
  },
  "language_info": {
   "codemirror_mode": {
    "name": "ipython",
    "version": 3
   },
   "file_extension": ".py",
   "mimetype": "text/x-python",
   "name": "python",
   "nbconvert_exporter": "python",
   "pygments_lexer": "ipython3",
   "version": "3.8.8"
  }
 },
 "nbformat": 4,
 "nbformat_minor": 5
}
